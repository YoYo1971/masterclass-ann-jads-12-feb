{
 "cells": [
  {
   "cell_type": "markdown",
   "metadata": {},
   "source": [
    "<div align=\"center\">\n",
    "<a href=\"https://vbti.nl\"><img src=\"https://drive.google.com/uc?id=1DdCGllL51O5wBuiI0rwygofKx3YIDPHX\" width=\"400\"></a>\n",
    "</div>\n",
    "\n",
    "# Exercise - Artificial Neural Networks\n",
    "In this notebook you will build and train an ANN to recognize handwitten numbers using Keras. At locations where you read `DIY` (Do It Yourself) you need to program yourself!"
   ]
  },
  {
   "cell_type": "code",
   "execution_count": 5,
   "metadata": {},
   "outputs": [],
   "source": [
    "# import some default libaries\n",
    "import numpy as np\n",
    "import matplotlib.pyplot as plt"
   ]
  },
  {
   "cell_type": "markdown",
   "metadata": {},
   "source": [
    "# Data preparation\n",
    "In this exercise, you would need to build a neural network for handwritten digit recognition. The well known MNIST dataset consists of 70,000 images of handwritten numbers. The challenge is to train a neural network that labels each image with the correct number. To train the neural network 60,000 images are used. The remaining 10,000 images are used to validate the performance of the neural network.\n",
    "\n",
    "The dataset is available through Keras Datasets. We download and prepare the data. First, inputs need to be flattened and scaled, since neural networks work better with scaled data between 0 and 1. Second, the labels need to be one-hot encoded."
   ]
  },
  {
   "cell_type": "markdown",
   "metadata": {},
   "source": [
    "### Load Data"
   ]
  },
  {
   "cell_type": "code",
   "execution_count": 6,
   "metadata": {
    "scrolled": true
   },
   "outputs": [
    {
     "data": {
      "text/plain": [
       "((60000, 28, 28),\n",
       " (60000,),\n",
       " (10000, 28, 28),\n",
       " (10000,),\n",
       " dtype('uint8'),\n",
       " dtype('uint8'))"
      ]
     },
     "execution_count": 6,
     "metadata": {},
     "output_type": "execute_result"
    }
   ],
   "source": [
    "from tensorflow.keras.datasets import mnist\n",
    "\n",
    "# load data\n",
    "(x_train, y_train), (x_val, y_val) = mnist.load_data()\n",
    "\n",
    "# inspect shape and type\n",
    "x_train.shape, y_train.shape, x_val.shape, y_val.shape, x_val.dtype, y_train.dtype"
   ]
  },
  {
   "cell_type": "code",
   "execution_count": null,
   "metadata": {},
   "outputs": [],
   "source": [
    "# DIY TASK 1: scale data between 0 and 1"
   ]
  },
  {
   "cell_type": "code",
   "execution_count": 7,
   "metadata": {},
   "outputs": [
    {
     "data": {
      "text/plain": [
       "<matplotlib.image.AxesImage at 0x7fa71bc15c50>"
      ]
     },
     "execution_count": 7,
     "metadata": {},
     "output_type": "execute_result"
    },
    {
     "data": {
      "image/png": "[encoded data removed]",
      "text/plain": [
       "<Figure size 432x288 with 1 Axes>"
      ]
     },
     "metadata": {
      "needs_background": "light"
     },
     "output_type": "display_data"
    }
   ],
   "source": [
    "# plot a sample point\n",
    "plt.imshow(x_train[36000], cmap='binary')"
   ]
  },
  {
   "cell_type": "code",
   "execution_count": null,
   "metadata": {},
   "outputs": [],
   "source": [
    "# plot first few numbers\n",
    "nrows, ncols = 8, 12\n",
    "fig, axs = plt.subplots(nrows, ncols, figsize=(ncols, nrows))\n",
    "axs = axs.ravel() \n",
    "for i in range(nrows*ncols):\n",
    "    axs[i].imshow(x_train[i], cmap='binary')\n",
    "    axs[i].set(xticks=[], yticks=[])"
   ]
  },
  {
   "cell_type": "markdown",
   "metadata": {},
   "source": [
    "### Reshape a square image to a vector"
   ]
  },
  {
   "cell_type": "code",
   "execution_count": null,
   "metadata": {},
   "outputs": [],
   "source": [
    "# DIY TASK 2: reformat data from 2D image to 1D vector in the form (batch_size, input_vector_size)\n",
    "# Hint: use numpy's reshape function"
   ]
  },
  {
   "cell_type": "markdown",
   "metadata": {},
   "source": [
    "### One-Encode Labels\n",
    "<div align=\"center\">\n",
    "<a><img src=\"https://drive.google.com/uc?id=1TZWumlT60fwqoQYLJ-OD6e4-k_pymBep\" width=\"400\"></a>\n",
    "</div>"
   ]
  },
  {
   "cell_type": "code",
   "execution_count": null,
   "metadata": {},
   "outputs": [],
   "source": [
    "# DIY TASK 3: reformat target vector from categorical label to one-hot-encoding\n",
    "# hint: use keras.utils function to_categorical\n",
    "from tensorflow.keras import utils"
   ]
  },
  {
   "cell_type": "markdown",
   "metadata": {},
   "source": [
    "# Build neural network\n",
    "A neural network can be build in two step. First the topology of the neural network is defined. This contains o.a. the number of layers, number of nodes (neurons) per layer and type of activation function. Next, a loss function and optimization function need to be defined. Use [Keras](https://keras.io) for programming the neural network."
   ]
  },
  {
   "cell_type": "code",
   "execution_count": null,
   "metadata": {},
   "outputs": [],
   "source": [
    "from tensorflow.keras import models\n",
    "from tensorflow.keras import layers\n",
    "from tensorflow.keras import optimizers\n",
    "\n",
    "# DIY TASK 4: define model topology\n",
    "# hint: use a Sequential keras model\n",
    "\n",
    "# DIY TASK 5: define model optimization method\n",
    "# hint: use a categorical_crossentropy loss function\n",
    "# hint: use categorical_accuracy metrics"
   ]
  },
  {
   "cell_type": "markdown",
   "metadata": {},
   "source": [
    "# Train neural network"
   ]
  },
  {
   "cell_type": "code",
   "execution_count": null,
   "metadata": {},
   "outputs": [],
   "source": [
    "# DIY TASK 6: train the model\n",
    "history = model.fit(...\n",
    "# Hint: do not forget to pass validation data\n",
    "# Hint: use \"model.fit?\" to see the arguments of the function"
   ]
  },
  {
   "cell_type": "code",
   "execution_count": null,
   "metadata": {},
   "outputs": [],
   "source": [
    "# plot training loss history\n",
    "history_dict = history.history\n",
    "loss_values  = history_dict['loss']\n",
    "val_loss_values  = history_dict['val_loss']\n",
    "\n",
    "epochs = range(1, len(loss_values)+1)\n",
    "\n",
    "plt.plot(epochs, loss_values, 'bo', label='Training loss')\n",
    "plt.plot(epochs, val_loss_values, 'b', label='Validation loss')\n",
    "plt.title('Training and validation loss')\n",
    "plt.xlabel('Epochs')\n",
    "plt.ylabel('Loss')\n",
    "plt.legend()\n",
    "plt.show()"
   ]
  },
  {
   "cell_type": "code",
   "execution_count": null,
   "metadata": {},
   "outputs": [],
   "source": [
    "# plot training accuracy history\n",
    "history_dict = history.history\n",
    "loss_values  = history_dict['categorical_accuracy']\n",
    "val_loss_values  = history_dict['val_categorical_accuracy']\n",
    "\n",
    "epochs = range(1, len(loss_values)+1)\n",
    "\n",
    "plt.plot(epochs, loss_values, 'bo', label='Training accuracy')\n",
    "plt.plot(epochs, val_loss_values, 'b', label='Validation accuracy')\n",
    "plt.title('Training and validation accuracy')\n",
    "plt.xlabel('Epochs')\n",
    "plt.ylabel('Loss')\n",
    "plt.legend()\n",
    "plt.show()"
   ]
  },
  {
   "cell_type": "code",
   "execution_count": null,
   "metadata": {},
   "outputs": [],
   "source": [
    "# Evaluate performance of model by plotting confusion matrix\n",
    "from sklearn.metrics import confusion_matrix\n",
    "\n",
    "# see http://scikit-learn.org/stable/auto_examples/model_selection/plot_confusion_matrix.html\n",
    "import itertools\n",
    "\n",
    "def accuracy(y, y_pred):\n",
    "    return np.sum(y==y_pred)/len(y)\n",
    "\n",
    "def plot_confusion_matrix(cm, classes,\n",
    "                          normalize=False,\n",
    "                          title='Confusion matrix',\n",
    "                          cmap=plt.cm.Blues):\n",
    "    \"\"\"\n",
    "    This function prints and plots the confusion matrix.\n",
    "    Normalization can be applied by setting `normalize=True`.\n",
    "    \"\"\"\n",
    "    if normalize:\n",
    "        cm = cm.astype('float') / cm.sum(axis=1)[:, np.newaxis]\n",
    "\n",
    "    plt.imshow(cm, interpolation='nearest', cmap=cmap)\n",
    "    plt.title(title)\n",
    "    plt.colorbar()\n",
    "    tick_marks = np.arange(len(classes))\n",
    "    plt.xticks(tick_marks, classes, rotation=45)\n",
    "    plt.yticks(tick_marks, classes)\n",
    "    plt.grid(False)\n",
    "\n",
    "    fmt = '.2f' if normalize else 'd'\n",
    "    thresh = cm.max() / 2.\n",
    "    for i, j in itertools.product(range(cm.shape[0]), range(cm.shape[1])):\n",
    "        plt.text(j, i, format(cm[i, j], fmt),\n",
    "                 horizontalalignment=\"center\",\n",
    "                 color=\"white\" if cm[i, j] > thresh else \"black\")\n",
    "\n",
    "    plt.tight_layout()\n",
    "    plt.ylabel('True label')\n",
    "    plt.xlabel('Predicted label')    \n",
    "    \n",
    "\n",
    "    \n",
    "\n",
    "# predict labels from validation set\n",
    "y_pred = model.predict(x_val)\n",
    "\n",
    "# convert data to label number\n",
    "y_pred = np.argmax(y_pred, axis=1) \n",
    "y_true = np.argmax(y_val, axis=1) \n",
    "\n",
    "# compute the confusion matrix\n",
    "cm = confusion_matrix(y_true, y_pred) \n",
    "\n",
    "# plot the confusion matrix\n",
    "plot_confusion_matrix(cm, \n",
    "                      title='Confusion matrix (acc={})'.format(accuracy(y_true, y_pred)), \n",
    "                      classes = range(10))"
   ]
  },
  {
   "cell_type": "markdown",
   "metadata": {},
   "source": [
    "## Questions (optional):\n",
    "- Which digits were miscategorised the most?\n",
    "- Which digit was the most mislabeled as some other digit? Why? *Hint: you can make the model to predict bunch of samples and then select those that were wrongly classified.*\n",
    "- Is there a way to improve classification accuracy? More neurons? More layers? Different activation functions?"
   ]
  }
 ],
 "metadata": {
  "kernelspec": {
   "display_name": "Python 3",
   "language": "python",
   "name": "python3"
  },
  "language_info": {
   "codemirror_mode": {
    "name": "ipython",
    "version": 3
   },
   "file_extension": ".py",
   "mimetype": "text/x-python",
   "name": "python",
   "nbconvert_exporter": "python",
   "pygments_lexer": "ipython3",
   "version": "3.6.9"
  }
 },
 "nbformat": 4,
 "nbformat_minor": 2
}
